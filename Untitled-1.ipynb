{
 "cells": [
  {
   "cell_type": "code",
   "execution_count": 1,
   "metadata": {},
   "outputs": [],
   "source": [
    "from selenium.webdriver.common.keys import Keys\n",
    "from selenium import webdriver\n",
    "from selenium.webdriver.support.ui import WebDriverWait\n",
    "import pandas as pd\n",
    "from IPython.display import display, Image\n",
    "from selenium.webdriver.support import expected_conditions as EC\n",
    "from selenium.webdriver.common.by import By\n",
    "from selenium.common.exceptions import NoSuchElementException\n",
    "import time"
   ]
  },
  {
   "cell_type": "code",
   "execution_count": 2,
   "metadata": {},
   "outputs": [],
   "source": [
    "options = webdriver.ChromeOptions()\n",
    "options.add_argument('--no-sandbox')\n",
    "# options.add_argument('--headless')\n",
    "options.add_argument('--disable-gpu')\n",
    "options.add_argument('--disable-dve-shm-uage')"
   ]
  },
  {
   "cell_type": "code",
   "execution_count": 45,
   "metadata": {},
   "outputs": [],
   "source": [
    "def page_login(driver, username, password, url, wait):\n",
    "    driver.get(url)\n",
    "    try:\n",
    "        wait.until(EC.visibility_of_element_located((By.CSS_SELECTOR, \"#onetrust-accept-btn-handler\"))).click()\n",
    "    except Exception:\n",
    "        pass\n",
    "\n",
    "    username_element = driver.find_element(By.CLASS_NAME, 'ez-input__inner')\n",
    "    username_element.send_keys(username)\n",
    "\n",
    "\n",
    "    password_element = driver.find_element(By.XPATH, '//input[@type=\"password\" and @autocomplete=\"off\" and contains(@class, \"ez-input__inner\")]')\n",
    "    password_element.send_keys(password)\n",
    "\n",
    "\n",
    "    button = wait.until(EC.element_to_be_clickable((By.CSS_SELECTOR, '.ez-button.login-submit.ez-button--primary.ez-button--medium')))\n",
    "    button.click()\n",
    "\n",
    "\n",
    "    try: \n",
    "        element = wait.until(EC.element_to_be_clickable((By.XPATH, '//div[contains(text(), \"Upland，CA\")]')))\n",
    "        element.click()\n",
    "    except NoSuchElementException:\n",
    "        print('No such element')                      \n",
    "\n",
    "\n",
    "def return_order(driver, wait):\n",
    "    # Click on the parent element to expand the submenu\n",
    "    parent_element = wait.until(EC.element_to_be_clickable((By.XPATH, '//div[contains(@class, \"ez-submenu__title\") and contains(., \"Return\")]/..')))\n",
    "    parent_element.click()\n",
    "\n",
    "    try:\n",
    "        # Wait for 'Return Order' element to be clickable and click it\n",
    "        rt = wait.until(EC.element_to_be_clickable((By.XPATH, '//div[@class=\"ez-menu-item__content\"]//span[contains(text(), \"Return Order\")]')))\n",
    "        rt.click()\n",
    "\n",
    "        # Wait for dropdown toggle element to be clickable and click it\n",
    "        dropdown_toggle = wait.until(EC.element_to_be_clickable((By.XPATH, '//div[@class=\"ez-input-group__prepend\"]')))\n",
    "        dropdown_toggle.click()\n",
    "\n",
    "        # Find all list options and click on 'RMA #' option if found\n",
    "        list_options = driver.find_elements(By.CSS_SELECTOR, 'li.ez-select-dropdown__item')\n",
    "        for option in list_options:\n",
    "            if option.text == 'RMA #':\n",
    "                option.click()\n",
    "                break\n",
    "    \n",
    "    except Exception as e:\n",
    "        print(f\"An error occurred: {str(e)}\")\n",
    "        # Handle the error as needed\n",
    "\n",
    "    finally:\n",
    "        # Ensure to handle cleanup or necessary actions after completion\n",
    "        pass\n",
    "\n",
    "def export_table(driver):\n",
    "    export_button = driver.find_element(By.CSS_SELECTOR, 'div.export-dropdown button.ez-button')\n",
    "    export_button.click()\n",
    "\n",
    "    menu_item_xpath = \"//li[text()='Export All Filtered Orders']\"\n",
    "    menu_item = driver.find_element(By.XPATH, menu_item_xpath)\n",
    "    \n",
    "    menu_item.click()"
   ]
  },
  {
   "cell_type": "code",
   "execution_count": 13,
   "metadata": {},
   "outputs": [],
   "source": [
    "url = 'https://wms.shipout.com/z/#/dashboard'\n",
    "\n",
    "username = 'support@carrohome.com'\n",
    "\n",
    "password = 'Carrohome#23'"
   ]
  },
  {
   "cell_type": "code",
   "execution_count": 46,
   "metadata": {},
   "outputs": [],
   "source": [
    "driver = webdriver.Chrome(options=options) # options=options\n",
    "wait = WebDriverWait(driver, 10)"
   ]
  },
  {
   "cell_type": "code",
   "execution_count": 47,
   "metadata": {},
   "outputs": [],
   "source": [
    "page_login(driver, username, password, url, wait)"
   ]
  },
  {
   "cell_type": "code",
   "execution_count": 49,
   "metadata": {},
   "outputs": [],
   "source": [
    "return_order(driver, wait)"
   ]
  },
  {
   "cell_type": "code",
   "execution_count": 50,
   "metadata": {},
   "outputs": [
    {
     "ename": "NoSuchElementException",
     "evalue": "Message: no such element: Unable to locate element: {\"method\":\"xpath\",\"selector\":\"//li[text()='Export All Filtered Orders']\"}\n  (Session info: chrome=126.0.6478.115); For documentation on this error, please visit: https://www.selenium.dev/documentation/webdriver/troubleshooting/errors#no-such-element-exception\nStacktrace:\n\tGetHandleVerifier [0x00007FF70A72EEA2+31554]\n\t(No symbol) [0x00007FF70A6A7ED9]\n\t(No symbol) [0x00007FF70A56872A]\n\t(No symbol) [0x00007FF70A5B8434]\n\t(No symbol) [0x00007FF70A5B853C]\n\t(No symbol) [0x00007FF70A5FF6A7]\n\t(No symbol) [0x00007FF70A5DD06F]\n\t(No symbol) [0x00007FF70A5FC977]\n\t(No symbol) [0x00007FF70A5DCDD3]\n\t(No symbol) [0x00007FF70A5AA33B]\n\t(No symbol) [0x00007FF70A5AAED1]\n\tGetHandleVerifier [0x00007FF70AA38B1D+3217341]\n\tGetHandleVerifier [0x00007FF70AA85AE3+3532675]\n\tGetHandleVerifier [0x00007FF70AA7B0E0+3489152]\n\tGetHandleVerifier [0x00007FF70A7DE776+750614]\n\t(No symbol) [0x00007FF70A6B375F]\n\t(No symbol) [0x00007FF70A6AEB14]\n\t(No symbol) [0x00007FF70A6AECA2]\n\t(No symbol) [0x00007FF70A69E16F]\n\tBaseThreadInitThunk [0x00007FFE10E2257D+29]\n\tRtlUserThreadStart [0x00007FFE12DAAF28+40]\n",
     "output_type": "error",
     "traceback": [
      "\u001b[1;31m---------------------------------------------------------------------------\u001b[0m",
      "\u001b[1;31mNoSuchElementException\u001b[0m                    Traceback (most recent call last)",
      "Cell \u001b[1;32mIn[50], line 1\u001b[0m\n\u001b[1;32m----> 1\u001b[0m \u001b[43mexport_table\u001b[49m\u001b[43m(\u001b[49m\u001b[43mdriver\u001b[49m\u001b[43m)\u001b[49m\n",
      "Cell \u001b[1;32mIn[45], line 61\u001b[0m, in \u001b[0;36mexport_table\u001b[1;34m(driver)\u001b[0m\n\u001b[0;32m     58\u001b[0m export_button\u001b[38;5;241m.\u001b[39mclick()\n\u001b[0;32m     60\u001b[0m menu_item_xpath \u001b[38;5;241m=\u001b[39m \u001b[38;5;124m\"\u001b[39m\u001b[38;5;124m//li[text()=\u001b[39m\u001b[38;5;124m'\u001b[39m\u001b[38;5;124mExport All Filtered Orders\u001b[39m\u001b[38;5;124m'\u001b[39m\u001b[38;5;124m]\u001b[39m\u001b[38;5;124m\"\u001b[39m\n\u001b[1;32m---> 61\u001b[0m menu_item \u001b[38;5;241m=\u001b[39m \u001b[43mdriver\u001b[49m\u001b[38;5;241;43m.\u001b[39;49m\u001b[43mfind_element\u001b[49m\u001b[43m(\u001b[49m\u001b[43mBy\u001b[49m\u001b[38;5;241;43m.\u001b[39;49m\u001b[43mXPATH\u001b[49m\u001b[43m,\u001b[49m\u001b[43m \u001b[49m\u001b[43mmenu_item_xpath\u001b[49m\u001b[43m)\u001b[49m\n\u001b[0;32m     63\u001b[0m menu_item\u001b[38;5;241m.\u001b[39mclick()\n",
      "File \u001b[1;32mc:\\Users\\cs\\AppData\\Local\\Programs\\Python\\Python312\\Lib\\site-packages\\selenium\\webdriver\\remote\\webdriver.py:741\u001b[0m, in \u001b[0;36mWebDriver.find_element\u001b[1;34m(self, by, value)\u001b[0m\n\u001b[0;32m    738\u001b[0m     by \u001b[38;5;241m=\u001b[39m By\u001b[38;5;241m.\u001b[39mCSS_SELECTOR\n\u001b[0;32m    739\u001b[0m     value \u001b[38;5;241m=\u001b[39m \u001b[38;5;124mf\u001b[39m\u001b[38;5;124m'\u001b[39m\u001b[38;5;124m[name=\u001b[39m\u001b[38;5;124m\"\u001b[39m\u001b[38;5;132;01m{\u001b[39;00mvalue\u001b[38;5;132;01m}\u001b[39;00m\u001b[38;5;124m\"\u001b[39m\u001b[38;5;124m]\u001b[39m\u001b[38;5;124m'\u001b[39m\n\u001b[1;32m--> 741\u001b[0m \u001b[38;5;28;01mreturn\u001b[39;00m \u001b[38;5;28;43mself\u001b[39;49m\u001b[38;5;241;43m.\u001b[39;49m\u001b[43mexecute\u001b[49m\u001b[43m(\u001b[49m\u001b[43mCommand\u001b[49m\u001b[38;5;241;43m.\u001b[39;49m\u001b[43mFIND_ELEMENT\u001b[49m\u001b[43m,\u001b[49m\u001b[43m \u001b[49m\u001b[43m{\u001b[49m\u001b[38;5;124;43m\"\u001b[39;49m\u001b[38;5;124;43musing\u001b[39;49m\u001b[38;5;124;43m\"\u001b[39;49m\u001b[43m:\u001b[49m\u001b[43m \u001b[49m\u001b[43mby\u001b[49m\u001b[43m,\u001b[49m\u001b[43m \u001b[49m\u001b[38;5;124;43m\"\u001b[39;49m\u001b[38;5;124;43mvalue\u001b[39;49m\u001b[38;5;124;43m\"\u001b[39;49m\u001b[43m:\u001b[49m\u001b[43m \u001b[49m\u001b[43mvalue\u001b[49m\u001b[43m}\u001b[49m\u001b[43m)\u001b[49m[\u001b[38;5;124m\"\u001b[39m\u001b[38;5;124mvalue\u001b[39m\u001b[38;5;124m\"\u001b[39m]\n",
      "File \u001b[1;32mc:\\Users\\cs\\AppData\\Local\\Programs\\Python\\Python312\\Lib\\site-packages\\selenium\\webdriver\\remote\\webdriver.py:347\u001b[0m, in \u001b[0;36mWebDriver.execute\u001b[1;34m(self, driver_command, params)\u001b[0m\n\u001b[0;32m    345\u001b[0m response \u001b[38;5;241m=\u001b[39m \u001b[38;5;28mself\u001b[39m\u001b[38;5;241m.\u001b[39mcommand_executor\u001b[38;5;241m.\u001b[39mexecute(driver_command, params)\n\u001b[0;32m    346\u001b[0m \u001b[38;5;28;01mif\u001b[39;00m response:\n\u001b[1;32m--> 347\u001b[0m     \u001b[38;5;28;43mself\u001b[39;49m\u001b[38;5;241;43m.\u001b[39;49m\u001b[43merror_handler\u001b[49m\u001b[38;5;241;43m.\u001b[39;49m\u001b[43mcheck_response\u001b[49m\u001b[43m(\u001b[49m\u001b[43mresponse\u001b[49m\u001b[43m)\u001b[49m\n\u001b[0;32m    348\u001b[0m     response[\u001b[38;5;124m\"\u001b[39m\u001b[38;5;124mvalue\u001b[39m\u001b[38;5;124m\"\u001b[39m] \u001b[38;5;241m=\u001b[39m \u001b[38;5;28mself\u001b[39m\u001b[38;5;241m.\u001b[39m_unwrap_value(response\u001b[38;5;241m.\u001b[39mget(\u001b[38;5;124m\"\u001b[39m\u001b[38;5;124mvalue\u001b[39m\u001b[38;5;124m\"\u001b[39m, \u001b[38;5;28;01mNone\u001b[39;00m))\n\u001b[0;32m    349\u001b[0m     \u001b[38;5;28;01mreturn\u001b[39;00m response\n",
      "File \u001b[1;32mc:\\Users\\cs\\AppData\\Local\\Programs\\Python\\Python312\\Lib\\site-packages\\selenium\\webdriver\\remote\\errorhandler.py:229\u001b[0m, in \u001b[0;36mErrorHandler.check_response\u001b[1;34m(self, response)\u001b[0m\n\u001b[0;32m    227\u001b[0m         alert_text \u001b[38;5;241m=\u001b[39m value[\u001b[38;5;124m\"\u001b[39m\u001b[38;5;124malert\u001b[39m\u001b[38;5;124m\"\u001b[39m]\u001b[38;5;241m.\u001b[39mget(\u001b[38;5;124m\"\u001b[39m\u001b[38;5;124mtext\u001b[39m\u001b[38;5;124m\"\u001b[39m)\n\u001b[0;32m    228\u001b[0m     \u001b[38;5;28;01mraise\u001b[39;00m exception_class(message, screen, stacktrace, alert_text)  \u001b[38;5;66;03m# type: ignore[call-arg]  # mypy is not smart enough here\u001b[39;00m\n\u001b[1;32m--> 229\u001b[0m \u001b[38;5;28;01mraise\u001b[39;00m exception_class(message, screen, stacktrace)\n",
      "\u001b[1;31mNoSuchElementException\u001b[0m: Message: no such element: Unable to locate element: {\"method\":\"xpath\",\"selector\":\"//li[text()='Export All Filtered Orders']\"}\n  (Session info: chrome=126.0.6478.115); For documentation on this error, please visit: https://www.selenium.dev/documentation/webdriver/troubleshooting/errors#no-such-element-exception\nStacktrace:\n\tGetHandleVerifier [0x00007FF70A72EEA2+31554]\n\t(No symbol) [0x00007FF70A6A7ED9]\n\t(No symbol) [0x00007FF70A56872A]\n\t(No symbol) [0x00007FF70A5B8434]\n\t(No symbol) [0x00007FF70A5B853C]\n\t(No symbol) [0x00007FF70A5FF6A7]\n\t(No symbol) [0x00007FF70A5DD06F]\n\t(No symbol) [0x00007FF70A5FC977]\n\t(No symbol) [0x00007FF70A5DCDD3]\n\t(No symbol) [0x00007FF70A5AA33B]\n\t(No symbol) [0x00007FF70A5AAED1]\n\tGetHandleVerifier [0x00007FF70AA38B1D+3217341]\n\tGetHandleVerifier [0x00007FF70AA85AE3+3532675]\n\tGetHandleVerifier [0x00007FF70AA7B0E0+3489152]\n\tGetHandleVerifier [0x00007FF70A7DE776+750614]\n\t(No symbol) [0x00007FF70A6B375F]\n\t(No symbol) [0x00007FF70A6AEB14]\n\t(No symbol) [0x00007FF70A6AECA2]\n\t(No symbol) [0x00007FF70A69E16F]\n\tBaseThreadInitThunk [0x00007FFE10E2257D+29]\n\tRtlUserThreadStart [0x00007FFE12DAAF28+40]\n"
     ]
    }
   ],
   "source": [
    "export_table(driver)"
   ]
  },
  {
   "cell_type": "code",
   "execution_count": 20,
   "metadata": {},
   "outputs": [],
   "source": [
    "all_data = []\n",
    "\n",
    "all_data.extend(scrape_table(driver, wait))"
   ]
  },
  {
   "cell_type": "code",
   "execution_count": 21,
   "metadata": {},
   "outputs": [],
   "source": [
    "next_button_selector = 'button.btn-next'\n",
    "next_button =wait.until(EC.presence_of_element_located((By.CSS_SELECTOR, next_button_selector)))"
   ]
  },
  {
   "cell_type": "code",
   "execution_count": 1,
   "metadata": {},
   "outputs": [
    {
     "name": "stdout",
     "output_type": "stream",
     "text": [
      "   Column1         Column2  IsInOtherColumn\n",
      "0  SF#6506  SF#6506-RETURN             True\n",
      "1  SF#1234  SF#1234-RETURN             True\n",
      "2  SF#7890  SF#5678-RETURN            False\n"
     ]
    }
   ],
   "source": [
    "import pandas as pd\n",
    "\n",
    "# Example DataFrame\n",
    "data = {\n",
    "    'Column1': ['SF#6506', 'SF#1234', 'SF#7890'],\n",
    "    'Column2': ['SF#6506-RETURN', 'SF#1234-RETURN', 'SF#5678-RETURN']\n",
    "}\n",
    "\n",
    "df = pd.DataFrame(data)\n",
    "\n",
    "# Function to check if a value from Column1 is in Column2\n",
    "def check_value(row):\n",
    "    return row['Column1'] in row['Column2']\n",
    "\n",
    "# Apply the function to each row and create a new column with the result\n",
    "df['IsInOtherColumn'] = df.apply(check_value, axis=1)\n",
    "\n",
    "print(df)\n"
   ]
  },
  {
   "cell_type": "code",
   "execution_count": 4,
   "metadata": {},
   "outputs": [],
   "source": [
    "df1 = df[df['Column1'].isin(df['Column2'])]"
   ]
  },
  {
   "cell_type": "code",
   "execution_count": 5,
   "metadata": {},
   "outputs": [
    {
     "data": {
      "text/html": [
       "<div>\n",
       "<style scoped>\n",
       "    .dataframe tbody tr th:only-of-type {\n",
       "        vertical-align: middle;\n",
       "    }\n",
       "\n",
       "    .dataframe tbody tr th {\n",
       "        vertical-align: top;\n",
       "    }\n",
       "\n",
       "    .dataframe thead th {\n",
       "        text-align: right;\n",
       "    }\n",
       "</style>\n",
       "<table border=\"1\" class=\"dataframe\">\n",
       "  <thead>\n",
       "    <tr style=\"text-align: right;\">\n",
       "      <th></th>\n",
       "      <th>Column1</th>\n",
       "      <th>Column2</th>\n",
       "      <th>IsInOtherColumn</th>\n",
       "    </tr>\n",
       "  </thead>\n",
       "  <tbody>\n",
       "  </tbody>\n",
       "</table>\n",
       "</div>"
      ],
      "text/plain": [
       "Empty DataFrame\n",
       "Columns: [Column1, Column2, IsInOtherColumn]\n",
       "Index: []"
      ]
     },
     "execution_count": 5,
     "metadata": {},
     "output_type": "execute_result"
    }
   ],
   "source": [
    "df1"
   ]
  },
  {
   "cell_type": "code",
   "execution_count": 26,
   "metadata": {},
   "outputs": [],
   "source": [
    "data1 = {\n",
    "    'Order No': ['SF#6506', 'SF#1234', 'SF#7890', 'SF#5678'],\n",
    "    'Tracking ID': ['TRK001', 'TRK002', 'TRK003', 'TRK004'],\n",
    "    'Reference': ['Ref1', 'Ref2', 'Ref3', 'Ref4'],\n",
    "    'Reference2': ['Ref21', 'Ref22', 'Ref23', 'Ref24']\n",
    "}\n",
    "\n",
    "data2 = {\n",
    "    'RMA #': ['SF#6506-RETURN-Warranty', 'SF#1234-RETURN', 'SF#5678-RETURN', 'SF#2334']\n",
    "}"
   ]
  },
  {
   "cell_type": "code",
   "execution_count": 27,
   "metadata": {},
   "outputs": [],
   "source": [
    "df1 = pd.DataFrame(data1)\n",
    "df2 = pd.DataFrame(data2)"
   ]
  },
  {
   "cell_type": "code",
   "execution_count": 28,
   "metadata": {},
   "outputs": [],
   "source": [
    "def check_value(df1, df2):\n",
    "    def is_contained(order_no):\n",
    "        return any(order_no in str(rma) for rma in df2['RMA #'].dropna())\n",
    "    \n",
    "    mask = df1['Order No'].apply(lambda x: not is_contained(x))\n",
    "    missing_values_df = df1[mask][['Order No', 'Tracking ID', 'Reference', 'Reference2']]\n",
    "    return missing_values_df"
   ]
  },
  {
   "cell_type": "code",
   "execution_count": 30,
   "metadata": {},
   "outputs": [
    {
     "name": "stdout",
     "output_type": "stream",
     "text": [
      "Missing values DataFrame:\n",
      "  Order No Tracking ID Reference Reference2\n",
      "2  SF#7890      TRK003      Ref3      Ref23\n"
     ]
    }
   ],
   "source": [
    "missing_values_df = check_value(df1, df2)\n",
    "print(\"Missing values DataFrame:\")\n",
    "print(missing_values_df)"
   ]
  },
  {
   "cell_type": "code",
   "execution_count": 4,
   "metadata": {},
   "outputs": [],
   "source": [
    "def read_args(file_path):\n",
    "    params = {}\n",
    "    with open(file_path, 'r') as file:\n",
    "        for line in file:\n",
    "            # Strip whitespace and ignore empty lines\n",
    "            line = line.strip()\n",
    "            if line:\n",
    "                # Split the line into key and value\n",
    "                key, value = line.split(' = ', 1)\n",
    "                params[key] = value\n",
    "    return params\n"
   ]
  },
  {
   "cell_type": "code",
   "execution_count": 8,
   "metadata": {},
   "outputs": [],
   "source": [
    "args_file_path = 'args.txt'\n",
    "params = read_args(args_file_path)"
   ]
  },
  {
   "cell_type": "code",
   "execution_count": 9,
   "metadata": {},
   "outputs": [
    {
     "data": {
      "text/plain": [
       "{'shipout_url': 'https://ezeeship.com/newstyle/#/accredit/login',\n",
       " 'shipout_username': 'support@carrohome.com',\n",
       " 'shipout_password': 'Carrohome#23',\n",
       " 'ezeeship_url': 'https://ezeeship.com/newstyle/#/accredit/login',\n",
       " 'ezeeship_username': 'jacksoneatvivi@gmail.com',\n",
       " 'ezeeship_password': 'Carrohome#1'}"
      ]
     },
     "execution_count": 9,
     "metadata": {},
     "output_type": "execute_result"
    }
   ],
   "source": [
    "params"
   ]
  },
  {
   "cell_type": "code",
   "execution_count": null,
   "metadata": {},
   "outputs": [],
   "source": []
  }
 ],
 "metadata": {
  "kernelspec": {
   "display_name": "Python 3",
   "language": "python",
   "name": "python3"
  },
  "language_info": {
   "codemirror_mode": {
    "name": "ipython",
    "version": 3
   },
   "file_extension": ".py",
   "mimetype": "text/x-python",
   "name": "python",
   "nbconvert_exporter": "python",
   "pygments_lexer": "ipython3",
   "version": "3.12.4"
  }
 },
 "nbformat": 4,
 "nbformat_minor": 2
}
